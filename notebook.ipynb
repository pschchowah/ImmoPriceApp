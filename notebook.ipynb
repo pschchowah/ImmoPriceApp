{
 "cells": [
  {
   "cell_type": "code",
   "id": "initial_id",
   "metadata": {
    "collapsed": true,
    "ExecuteTime": {
     "end_time": "2024-12-11T14:24:37.027914Z",
     "start_time": "2024-12-11T14:24:36.526722Z"
    }
   },
   "source": [
    "import pandas as pd\n",
    "df = pd.read_csv(\"scraping_results.csv\")\n",
    "df.columns"
   ],
   "outputs": [
    {
     "data": {
      "text/plain": [
       "Index(['Unnamed: 0', 'Locality', 'Zip Code', 'Type of Property',\n",
       "       'Subtype of Property', 'Price', 'Type of Sale', 'Number of Rooms',\n",
       "       'Livable Space (m2)', 'Fully Equipped Kitchen', 'Furnished',\n",
       "       'Fireplace', 'Terrace', 'Terrace Area (m2)', 'Garden',\n",
       "       'Garden Area (m2)', 'Swimming Pool', 'Surface of the Land (m2)',\n",
       "       'Number of Facades', 'Construction Year', 'PEB',\n",
       "       'Primary Energy Consumption (kWh/m2)', 'State of the Building', 'Url'],\n",
       "      dtype='object')"
      ]
     },
     "execution_count": 1,
     "metadata": {},
     "output_type": "execute_result"
    }
   ],
   "execution_count": 1
  },
  {
   "metadata": {
    "ExecuteTime": {
     "end_time": "2024-12-16T10:13:05.113469Z",
     "start_time": "2024-12-16T10:13:05.105953Z"
    }
   },
   "cell_type": "code",
   "source": "df['Construction Year'].mode()",
   "id": "ddcf69c18e90b76e",
   "outputs": [
    {
     "data": {
      "text/plain": [
       "0    2024.0\n",
       "Name: Construction Year, dtype: float64"
      ]
     },
     "execution_count": 3,
     "metadata": {},
     "output_type": "execute_result"
    }
   ],
   "execution_count": 3
  },
  {
   "metadata": {
    "ExecuteTime": {
     "end_time": "2024-12-16T11:00:30.692337Z",
     "start_time": "2024-12-16T11:00:30.688216Z"
    }
   },
   "cell_type": "code",
   "source": "df['Subtype of Property'].unique()",
   "id": "e6502f48a89c4832",
   "outputs": [
    {
     "data": {
      "text/plain": [
       "array(['apartment', 'house', 'penthouse', 'villa', 'town-house',\n",
       "       'apartment-block', 'triplex', 'loft', 'mansion', 'manor-house',\n",
       "       'mixed-use-building', 'bungalow', 'country-cottage', 'duplex',\n",
       "       'exceptional-property', 'ground-floor', 'service-flat',\n",
       "       'other-property', 'farmhouse', 'flat-studio', 'castle', 'chalet',\n",
       "       'kot', 'new-real-estate-project-houses',\n",
       "       'new-real-estate-project-apartments', 'pavilion'], dtype=object)"
      ]
     },
     "execution_count": 6,
     "metadata": {},
     "output_type": "execute_result"
    }
   ],
   "execution_count": 6
  },
  {
   "metadata": {
    "ExecuteTime": {
     "end_time": "2024-12-16T11:12:01.652259Z",
     "start_time": "2024-12-16T11:12:01.647099Z"
    }
   },
   "cell_type": "code",
   "source": "grouped_unique = df.groupby('Type of Property')['Subtype of Property'].apply(lambda x: list(x.unique())).reset_index()",
   "id": "3aa8ff4ad460643e",
   "outputs": [],
   "execution_count": 17
  },
  {
   "metadata": {
    "ExecuteTime": {
     "end_time": "2024-12-16T11:12:05.049359Z",
     "start_time": "2024-12-16T11:12:05.047307Z"
    }
   },
   "cell_type": "code",
   "source": [
    "\n",
    "\n",
    "# Display the result\n",
    "print(grouped_unique)"
   ],
   "id": "eeec77c04ac31bf3",
   "outputs": [
    {
     "name": "stdout",
     "output_type": "stream",
     "text": [
      "  Type of Property                                Subtype of Property\n",
      "0        Apartment  [apartment, penthouse, triplex, loft, duplex, ...\n",
      "1            House  [house, villa, town-house, apartment-block, ma...\n"
     ]
    }
   ],
   "execution_count": 18
  },
  {
   "metadata": {
    "ExecuteTime": {
     "end_time": "2024-12-16T11:12:08.466540Z",
     "start_time": "2024-12-16T11:12:08.465253Z"
    }
   },
   "cell_type": "code",
   "source": "from tabulate import tabulate\n",
   "id": "e478061b23d31c68",
   "outputs": [],
   "execution_count": 19
  },
  {
   "metadata": {
    "ExecuteTime": {
     "end_time": "2024-12-16T11:12:08.469225Z",
     "start_time": "2024-12-16T11:12:08.467049Z"
    }
   },
   "cell_type": "code",
   "source": "print(tabulate(grouped_unique, headers='keys', tablefmt='psql', showindex=False))",
   "id": "c93dc511fd1f310f",
   "outputs": [
    {
     "name": "stdout",
     "output_type": "stream",
     "text": [
      "+--------------------+---------------------------------------------------------------------------------------------------------------------------------------------------------------------------------------------------------------------------+\n",
      "| Type of Property   | Subtype of Property                                                                                                                                                                                                       |\n",
      "|--------------------+---------------------------------------------------------------------------------------------------------------------------------------------------------------------------------------------------------------------------|\n",
      "| Apartment          | ['apartment', 'penthouse', 'triplex', 'loft', 'duplex', 'ground-floor', 'service-flat', 'flat-studio', 'kot']                                                                                                             |\n",
      "| House              | ['house', 'villa', 'town-house', 'apartment-block', 'mansion', 'manor-house', 'mixed-use-building', 'bungalow', 'country-cottage', 'exceptional-property', 'other-property', 'farmhouse', 'castle', 'chalet', 'pavilion'] |\n",
      "+--------------------+---------------------------------------------------------------------------------------------------------------------------------------------------------------------------------------------------------------------------+\n"
     ]
    }
   ],
   "execution_count": 20
  },
  {
   "metadata": {
    "ExecuteTime": {
     "end_time": "2024-12-18T07:58:12.709983Z",
     "start_time": "2024-12-18T07:58:11.854741Z"
    }
   },
   "cell_type": "code",
   "source": [
    "import pandas as pd\n",
    "\n",
    "# Read the CSV files\n",
    "geo_data = pd.read_csv('georef-belgium-postal-codes@public.csv', sep=';')\n",
    "fiscal_data = pd.read_excel('prosperity_belgium.xlsx')  \n",
    "\n",
    "merged_data = pd.merge(geo_data[['Post code', 'Municipality code']], \n",
    "                        fiscal_data[['NIS code', 'Prosperity index']], \n",
    "                        left_on='Municipality code', \n",
    "                        right_on='NIS code', \n",
    "                        how='inner')\n",
    "\n",
    "# Select only the required columns\n",
    "result_df = merged_data[['Post code', 'Municipality code', 'Prosperity index']]\n",
    "\n",
    "# Save the resulting DataFrame to a new CSV file\n",
    "result_df.to_csv('geo_prosp_data.csv', index=False) "
   ],
   "id": "3e9d8ef30423b3d",
   "outputs": [],
   "execution_count": 2
  },
  {
   "metadata": {
    "ExecuteTime": {
     "end_time": "2024-12-18T09:53:21.572031Z",
     "start_time": "2024-12-18T09:53:21.559380Z"
    }
   },
   "cell_type": "code",
   "source": [
    "import pandas as pd\n",
    "\n",
    "result_df = pd.read_csv('geo_prosp_data.csv')\n",
    "# Select only the required columns\n",
    "\n",
    "# Convert columns to integers\n",
    "result_df['Post code'] = result_df['Post code'].astype(int)\n",
    "result_df['Municipality code'] = result_df['Municipality code'].astype(int)\n",
    "result_df['Prosperity index'] = result_df['Prosperity index'].astype(int)\n",
    "\n",
    "# Save the resulting DataFrame to a new CSV file\n",
    "result_df.to_csv('geo_prosp_data.csv', index=False) "
   ],
   "id": "3a18d3db77b30ef8",
   "outputs": [],
   "execution_count": 3
  },
  {
   "metadata": {},
   "cell_type": "code",
   "outputs": [],
   "execution_count": null,
   "source": "",
   "id": "481c14853e10f5f1"
  }
 ],
 "metadata": {
  "kernelspec": {
   "display_name": "Python 3",
   "language": "python",
   "name": "python3"
  },
  "language_info": {
   "codemirror_mode": {
    "name": "ipython",
    "version": 2
   },
   "file_extension": ".py",
   "mimetype": "text/x-python",
   "name": "python",
   "nbconvert_exporter": "python",
   "pygments_lexer": "ipython2",
   "version": "2.7.6"
  }
 },
 "nbformat": 4,
 "nbformat_minor": 5
}
